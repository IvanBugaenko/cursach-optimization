{
 "cells": [
  {
   "cell_type": "code",
   "execution_count": 2,
   "metadata": {},
   "outputs": [],
   "source": [
    "import sys\n",
    "import os\n",
    "from pathlib import Path\n",
    "\n",
    "if (dir := str(Path(os.getcwd()).parent)) not in sys.path:\n",
    "    sys.path.insert(0, dir)\n",
    "\n",
    "import pandas as pd\n",
    "from algorithm.evolution import evolution\n",
    "import time"
   ]
  },
  {
   "attachments": {},
   "cell_type": "markdown",
   "metadata": {},
   "source": [
    "## Конфигурация системы\n",
    "\n",
    "|  |  |\n",
    "| ------ | ------ |\n",
    "| Процессор | AMD Ryzen 5 5500U 2.10 GHz |\n",
    "| ОЗУ | 16 ГБ |\n",
    "| Операционная система | Windows 11 |\n"
   ]
  },
  {
   "cell_type": "code",
   "execution_count": 14,
   "metadata": {},
   "outputs": [],
   "source": [
    "# Гиперпараметры, использованные при тестировании. НЕ МЕНЯТЬ.\n",
    "\n",
    "parameters = {\n",
    "    \"population_dim\": 250,\n",
    "    \"tournament_size\": 5,\n",
    "    \"crossing_probability\": 0.85,\n",
    "    \"mutation_probability\": 0.15,\n",
    "    \"exchange_num\": 3,\n",
    "    \"steps\": 200,\n",
    "}"
   ]
  },
  {
   "cell_type": "code",
   "execution_count": 4,
   "metadata": {},
   "outputs": [],
   "source": [
    "def evolution_experiment(N: int, evo_params: dict):\n",
    "    start_time = time.time()\n",
    "    res = evolution(N=N, **evo_params)\n",
    "    process_time = time.time() - start_time\n",
    "    return N, process_time, res['fitness'], len(res['cache'])"
   ]
  },
  {
   "cell_type": "code",
   "execution_count": 5,
   "metadata": {},
   "outputs": [],
   "source": [
    "def create_df(N: int, times: int) -> pd.DataFrame:\n",
    "    data = []\n",
    "    for _ in range(times):\n",
    "        print(f'{N}: {_ + 1}/{times}')\n",
    "        data.append(evolution_experiment(N, parameters))\n",
    "    columns=['N', 'Time', 'fitness', 'Cache Size']\n",
    "    return pd.DataFrame(data=data, columns=columns)"
   ]
  },
  {
   "cell_type": "code",
   "execution_count": 6,
   "metadata": {},
   "outputs": [
    {
     "data": {
      "text/html": [
       "<div>\n",
       "<style scoped>\n",
       "    .dataframe tbody tr th:only-of-type {\n",
       "        vertical-align: middle;\n",
       "    }\n",
       "\n",
       "    .dataframe tbody tr th {\n",
       "        vertical-align: top;\n",
       "    }\n",
       "\n",
       "    .dataframe thead th {\n",
       "        text-align: right;\n",
       "    }\n",
       "</style>\n",
       "<table border=\"1\" class=\"dataframe\">\n",
       "  <thead>\n",
       "    <tr style=\"text-align: right;\">\n",
       "      <th></th>\n",
       "      <th>N</th>\n",
       "      <th>Time</th>\n",
       "      <th>fitness</th>\n",
       "      <th>Cache Size</th>\n",
       "    </tr>\n",
       "  </thead>\n",
       "  <tbody>\n",
       "  </tbody>\n",
       "</table>\n",
       "</div>"
      ],
      "text/plain": [
       "Empty DataFrame\n",
       "Columns: [N, Time, fitness, Cache Size]\n",
       "Index: []"
      ]
     },
     "execution_count": 6,
     "metadata": {},
     "output_type": "execute_result"
    }
   ],
   "source": [
    "# загрузить с файла\n",
    "# df = pd.read_csv('experiment.csv', sep=';')\n",
    "\n",
    "# начать с нуля\n",
    "df = create_df(0, 0)\n",
    "\n",
    "df"
   ]
  },
  {
   "cell_type": "code",
   "execution_count": 11,
   "metadata": {},
   "outputs": [
    {
     "name": "stdout",
     "output_type": "stream",
     "text": [
      "9: 1/100\n",
      "9: 2/100\n",
      "9: 3/100\n",
      "9: 4/100\n",
      "9: 5/100\n",
      "9: 6/100\n",
      "9: 7/100\n",
      "9: 8/100\n",
      "9: 9/100\n",
      "9: 10/100\n",
      "9: 11/100\n",
      "9: 12/100\n",
      "9: 13/100\n",
      "9: 14/100\n",
      "9: 15/100\n",
      "9: 16/100\n",
      "9: 17/100\n",
      "9: 18/100\n",
      "9: 19/100\n",
      "9: 20/100\n",
      "9: 21/100\n",
      "9: 22/100\n",
      "9: 23/100\n",
      "9: 24/100\n",
      "9: 25/100\n",
      "9: 26/100\n",
      "9: 27/100\n",
      "9: 28/100\n",
      "9: 29/100\n",
      "9: 30/100\n",
      "9: 31/100\n",
      "9: 32/100\n",
      "9: 33/100\n",
      "9: 34/100\n",
      "9: 35/100\n",
      "9: 36/100\n",
      "9: 37/100\n",
      "9: 38/100\n",
      "9: 39/100\n",
      "9: 40/100\n",
      "9: 41/100\n",
      "9: 42/100\n",
      "9: 43/100\n",
      "9: 44/100\n",
      "9: 45/100\n",
      "9: 46/100\n",
      "9: 47/100\n",
      "9: 48/100\n",
      "9: 49/100\n",
      "9: 50/100\n",
      "9: 51/100\n",
      "9: 52/100\n",
      "9: 53/100\n",
      "9: 54/100\n",
      "9: 55/100\n",
      "9: 56/100\n",
      "9: 57/100\n",
      "9: 58/100\n",
      "9: 59/100\n",
      "9: 60/100\n",
      "9: 61/100\n",
      "9: 62/100\n",
      "9: 63/100\n",
      "9: 64/100\n",
      "9: 65/100\n",
      "9: 66/100\n",
      "9: 67/100\n",
      "9: 68/100\n",
      "9: 69/100\n",
      "9: 70/100\n",
      "9: 71/100\n",
      "9: 72/100\n",
      "9: 73/100\n",
      "9: 74/100\n",
      "9: 75/100\n",
      "9: 76/100\n",
      "9: 77/100\n",
      "9: 78/100\n",
      "9: 79/100\n",
      "9: 80/100\n",
      "9: 81/100\n",
      "9: 82/100\n",
      "9: 83/100\n",
      "9: 84/100\n",
      "9: 85/100\n",
      "9: 86/100\n",
      "9: 87/100\n",
      "9: 88/100\n",
      "9: 89/100\n",
      "9: 90/100\n",
      "9: 91/100\n",
      "9: 92/100\n",
      "9: 93/100\n",
      "9: 94/100\n",
      "9: 95/100\n",
      "9: 96/100\n",
      "9: 97/100\n",
      "9: 98/100\n",
      "9: 99/100\n",
      "9: 100/100\n"
     ]
    }
   ],
   "source": [
    "values = range(9, 10)\n",
    "n_instance = 100\n",
    "\n",
    "new_df = [create_df(N, n_instance) for N in values]\n",
    "df = pd.concat([df, *new_df], ignore_index=True)"
   ]
  },
  {
   "cell_type": "code",
   "execution_count": 12,
   "metadata": {},
   "outputs": [
    {
     "data": {
      "text/html": [
       "<div>\n",
       "<style scoped>\n",
       "    .dataframe tbody tr th:only-of-type {\n",
       "        vertical-align: middle;\n",
       "    }\n",
       "\n",
       "    .dataframe tbody tr th {\n",
       "        vertical-align: top;\n",
       "    }\n",
       "\n",
       "    .dataframe thead th {\n",
       "        text-align: right;\n",
       "    }\n",
       "</style>\n",
       "<table border=\"1\" class=\"dataframe\">\n",
       "  <thead>\n",
       "    <tr style=\"text-align: right;\">\n",
       "      <th></th>\n",
       "      <th>N</th>\n",
       "      <th>Time</th>\n",
       "      <th>fitness</th>\n",
       "      <th>Cache Size</th>\n",
       "    </tr>\n",
       "  </thead>\n",
       "  <tbody>\n",
       "    <tr>\n",
       "      <th>0</th>\n",
       "      <td>8</td>\n",
       "      <td>0.088140</td>\n",
       "      <td>0</td>\n",
       "      <td>2</td>\n",
       "    </tr>\n",
       "    <tr>\n",
       "      <th>1</th>\n",
       "      <td>8</td>\n",
       "      <td>0.000997</td>\n",
       "      <td>0</td>\n",
       "      <td>1</td>\n",
       "    </tr>\n",
       "    <tr>\n",
       "      <th>2</th>\n",
       "      <td>8</td>\n",
       "      <td>0.003999</td>\n",
       "      <td>0</td>\n",
       "      <td>1</td>\n",
       "    </tr>\n",
       "    <tr>\n",
       "      <th>3</th>\n",
       "      <td>8</td>\n",
       "      <td>0.143266</td>\n",
       "      <td>0</td>\n",
       "      <td>3</td>\n",
       "    </tr>\n",
       "    <tr>\n",
       "      <th>4</th>\n",
       "      <td>8</td>\n",
       "      <td>0.002140</td>\n",
       "      <td>0</td>\n",
       "      <td>1</td>\n",
       "    </tr>\n",
       "    <tr>\n",
       "      <th>...</th>\n",
       "      <td>...</td>\n",
       "      <td>...</td>\n",
       "      <td>...</td>\n",
       "      <td>...</td>\n",
       "    </tr>\n",
       "    <tr>\n",
       "      <th>115</th>\n",
       "      <td>9</td>\n",
       "      <td>0.448562</td>\n",
       "      <td>0</td>\n",
       "      <td>7</td>\n",
       "    </tr>\n",
       "    <tr>\n",
       "      <th>116</th>\n",
       "      <td>9</td>\n",
       "      <td>0.889166</td>\n",
       "      <td>0</td>\n",
       "      <td>13</td>\n",
       "    </tr>\n",
       "    <tr>\n",
       "      <th>117</th>\n",
       "      <td>9</td>\n",
       "      <td>0.381022</td>\n",
       "      <td>0</td>\n",
       "      <td>6</td>\n",
       "    </tr>\n",
       "    <tr>\n",
       "      <th>118</th>\n",
       "      <td>9</td>\n",
       "      <td>1.620360</td>\n",
       "      <td>0</td>\n",
       "      <td>23</td>\n",
       "    </tr>\n",
       "    <tr>\n",
       "      <th>119</th>\n",
       "      <td>9</td>\n",
       "      <td>0.003000</td>\n",
       "      <td>0</td>\n",
       "      <td>1</td>\n",
       "    </tr>\n",
       "  </tbody>\n",
       "</table>\n",
       "<p>120 rows × 4 columns</p>\n",
       "</div>"
      ],
      "text/plain": [
       "     N      Time fitness Cache Size\n",
       "0    8  0.088140       0          2\n",
       "1    8  0.000997       0          1\n",
       "2    8  0.003999       0          1\n",
       "3    8  0.143266       0          3\n",
       "4    8  0.002140       0          1\n",
       "..  ..       ...     ...        ...\n",
       "115  9  0.448562       0          7\n",
       "116  9  0.889166       0         13\n",
       "117  9  0.381022       0          6\n",
       "118  9  1.620360       0         23\n",
       "119  9  0.003000       0          1\n",
       "\n",
       "[120 rows x 4 columns]"
      ]
     },
     "execution_count": 12,
     "metadata": {},
     "output_type": "execute_result"
    }
   ],
   "source": [
    "df"
   ]
  },
  {
   "cell_type": "code",
   "execution_count": 13,
   "metadata": {},
   "outputs": [
    {
     "data": {
      "text/html": [
       "<div>\n",
       "<style scoped>\n",
       "    .dataframe tbody tr th:only-of-type {\n",
       "        vertical-align: middle;\n",
       "    }\n",
       "\n",
       "    .dataframe tbody tr th {\n",
       "        vertical-align: top;\n",
       "    }\n",
       "\n",
       "    .dataframe thead th {\n",
       "        text-align: right;\n",
       "    }\n",
       "</style>\n",
       "<table border=\"1\" class=\"dataframe\">\n",
       "  <thead>\n",
       "    <tr style=\"text-align: right;\">\n",
       "      <th></th>\n",
       "      <th></th>\n",
       "      <th>Time</th>\n",
       "      <th>Cache Size</th>\n",
       "    </tr>\n",
       "    <tr>\n",
       "      <th>N</th>\n",
       "      <th>fitness</th>\n",
       "      <th></th>\n",
       "      <th></th>\n",
       "    </tr>\n",
       "  </thead>\n",
       "  <tbody>\n",
       "    <tr>\n",
       "      <th>8</th>\n",
       "      <th>0</th>\n",
       "      <td>0.118270</td>\n",
       "      <td>2.7</td>\n",
       "    </tr>\n",
       "    <tr>\n",
       "      <th>9</th>\n",
       "      <th>0</th>\n",
       "      <td>0.957051</td>\n",
       "      <td>13.827273</td>\n",
       "    </tr>\n",
       "  </tbody>\n",
       "</table>\n",
       "</div>"
      ],
      "text/plain": [
       "               Time Cache Size\n",
       "N fitness                     \n",
       "8 0        0.118270        2.7\n",
       "9 0        0.957051  13.827273"
      ]
     },
     "execution_count": 13,
     "metadata": {},
     "output_type": "execute_result"
    }
   ],
   "source": [
    "df.groupby(['N', 'fitness']).mean()"
   ]
  },
  {
   "cell_type": "code",
   "execution_count": 187,
   "metadata": {},
   "outputs": [],
   "source": [
    "# df.to_csv('experiment.csv', index=False, sep=';')"
   ]
  },
  {
   "attachments": {},
   "cell_type": "markdown",
   "metadata": {},
   "source": [
    "### Изменение датасета"
   ]
  },
  {
   "cell_type": "code",
   "execution_count": null,
   "metadata": {},
   "outputs": [],
   "source": [
    "z = create_df(0, 0)\n",
    "z"
   ]
  },
  {
   "cell_type": "code",
   "execution_count": null,
   "metadata": {},
   "outputs": [],
   "source": [
    "df_to_change = df[(df['N'] == ...) & (df['fitness'] > ...)]\n",
    "df_to_change"
   ]
  },
  {
   "cell_type": "code",
   "execution_count": null,
   "metadata": {},
   "outputs": [],
   "source": [
    "idx = df_to_change.index\n",
    "idx"
   ]
  },
  {
   "cell_type": "code",
   "execution_count": null,
   "metadata": {},
   "outputs": [],
   "source": [
    "df.loc[idx]"
   ]
  },
  {
   "cell_type": "code",
   "execution_count": null,
   "metadata": {},
   "outputs": [],
   "source": [
    "z.index = idx\n",
    "z"
   ]
  },
  {
   "cell_type": "code",
   "execution_count": 162,
   "metadata": {},
   "outputs": [],
   "source": [
    "df.update(z, 'left')"
   ]
  }
 ],
 "metadata": {
  "kernelspec": {
   "display_name": "venv",
   "language": "python",
   "name": "python3"
  },
  "language_info": {
   "codemirror_mode": {
    "name": "ipython",
    "version": 3
   },
   "file_extension": ".py",
   "mimetype": "text/x-python",
   "name": "python",
   "nbconvert_exporter": "python",
   "pygments_lexer": "ipython3",
   "version": "3.9.13"
  },
  "orig_nbformat": 4
 },
 "nbformat": 4,
 "nbformat_minor": 2
}
